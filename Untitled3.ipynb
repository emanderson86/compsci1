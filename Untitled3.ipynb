{
 "cells": [
  {
   "cell_type": "markdown",
   "metadata": {},
   "source": [
    "# Lab 1 Fremont Bridge Data"
   ]
  },
  {
   "cell_type": "code",
   "execution_count": 7,
   "metadata": {
    "collapsed": false
   },
   "outputs": [
    {
     "name": "stdout",
     "output_type": "stream",
     "text": [
      "83.87591928899309\n",
      "What value would you like to check?57\n",
      "65\n"
     ]
    }
   ],
   "source": [
    "import numpy\n",
    "import matplotlib.pyplot as plt\n",
    "import statistics\n",
    "%matplotlib inline\n",
    "#File Reading\n",
    "#Emma Anderson, Big Data, 1/22/16\n",
    "#open and save the file for reading\n",
    "data_file = open(\"FreBridge.csv\", \"r\");\n",
    "#create an empty list to store the data\n",
    "data_list = [];\n",
    "#put all lines from the file into a list\n",
    "for ii in data_file:\n",
    "    data_list.append(ii);\n",
    "#print(data_list);\n",
    "#remove the first element (column header)\n",
    "del data_list[0];\n",
    "#create empty lists for westbound and eastbound bikes\n",
    "west = [];\n",
    "east = [];    \n",
    "for jj in range(len(data_list)):\n",
    "    #strip off the \\n (newline)\n",
    "    data_list[jj] = data_list[jj].replace(\"\\n\", \"\");\n",
    "    #make into a list of lists of just numbers\n",
    "    data_list[jj] = data_list[jj].split(\",\");\n",
    "    #add data to specific lists for west and east\n",
    "    west.append(int(data_list[jj][1]));\n",
    "    east.append(int(data_list[jj][2]));\n",
    "print(statistics.stdev(west))\n",
    "#print(east[0])\n",
    "#print(data_list[0])\n",
    "\n",
    "m = int(input(\"What value would you like to check?\"))\n",
    "print(east[m])\n",
    "\n"
   ]
  },
  {
   "cell_type": "code",
   "execution_count": null,
   "metadata": {
    "collapsed": false
   },
   "outputs": [],
   "source": [
    "print(\"Hello\", end = \"\")\n",
    "size = input(\"Enter a size\")\n",
    "print(\"Hello\")"
   ]
  },
  {
   "cell_type": "code",
   "execution_count": null,
   "metadata": {
    "collapsed": true
   },
   "outputs": [],
   "source": []
  }
 ],
 "metadata": {
  "kernelspec": {
   "display_name": "Python 3",
   "language": "python",
   "name": "python3"
  },
  "language_info": {
   "codemirror_mode": {
    "name": "ipython",
    "version": 3
   },
   "file_extension": ".py",
   "mimetype": "text/x-python",
   "name": "python",
   "nbconvert_exporter": "python",
   "pygments_lexer": "ipython3",
   "version": "3.4.4"
  }
 },
 "nbformat": 4,
 "nbformat_minor": 0
}
